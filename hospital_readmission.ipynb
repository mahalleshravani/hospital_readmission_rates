{
 "cells": [
  {
   "cell_type": "code",
   "execution_count": 1,
   "metadata": {
    "scrolled": true
   },
   "outputs": [],
   "source": [
    "from myData import down_sampling, metrics_table\n",
    "from Preprocess import get_data\n",
    "import pandas as pd\n",
    "import numpy as np\n",
    "from sklearn.metrics import roc_curve, auc, classification_report\n",
    "from sklearn.preprocessing import LabelEncoder\n",
    "from sklearn import model_selection as ms\n",
    "from sklearn.linear_model import LogisticRegression\n",
    "from sklearn.ensemble import RandomForestClassifier, GradientBoostingClassifier\n",
    "from sklearn.pipeline import make_pipeline\n",
    "from sklearn.preprocessing import OneHotEncoder\n",
    "\n",
    "import warnings\n",
    "warnings.filterwarnings('ignore')\n",
    "from matplotlib import pyplot as plt\n",
    "%matplotlib inline\n"
   ]
  },
  {
   "cell_type": "code",
   "execution_count": 2,
   "metadata": {},
   "outputs": [
    {
     "name": "stdout",
     "output_type": "stream",
     "text": [
      "Original data shape (101766, 50)\n",
      "Process Missing data\n",
      "Delete multipule encounters\n",
      "Transform features\n",
      "Data shape after preprocessing: (69973, 42)\n"
     ]
    },
    {
     "data": {
      "text/plain": [
       "Index(['race', 'gender', 'age', 'admission_type_id',\n",
       "       'discharge_disposition_id', 'admission_source_id', 'time_in_hospital',\n",
       "       'num_lab_procedures', 'num_procedures', 'num_medications',\n",
       "       'number_outpatient', 'number_emergency', 'number_inpatient',\n",
       "       'number_diagnoses', 'max_glu_serum', 'A1Cresult', 'metformin',\n",
       "       'repaglinide', 'nateglinide', 'chlorpropamide', 'glimepiride',\n",
       "       'acetohexamide', 'glipizide', 'glyburide', 'tolbutamide',\n",
       "       'pioglitazone', 'rosiglitazone', 'acarbose', 'miglitol', 'troglitazone',\n",
       "       'tolazamide', 'insulin', 'glyburide-metformin', 'glipizide-metformin',\n",
       "       'glimepiride-pioglitazone', 'metformin-rosiglitazone',\n",
       "       'metformin-pioglitazone', 'change', 'diabetesMed', 'diag_1_group',\n",
       "       'diag_2_group', 'diag_3_group', 'readmitted'],\n",
       "      dtype='object')"
      ]
     },
     "execution_count": 2,
     "metadata": {},
     "output_type": "execute_result"
    }
   ],
   "source": [
    "X,y= get_data('diabetic_data.csv',labelEncode=False, skewness=False)\n",
    "df = pd.concat([X,y], axis=1)\n",
    "df.columns"
   ]
  },
  {
   "cell_type": "code",
   "execution_count": 3,
   "metadata": {},
   "outputs": [
    {
     "data": {
      "text/html": [
       "<div>\n",
       "<style scoped>\n",
       "    .dataframe tbody tr th:only-of-type {\n",
       "        vertical-align: middle;\n",
       "    }\n",
       "\n",
       "    .dataframe tbody tr th {\n",
       "        vertical-align: top;\n",
       "    }\n",
       "\n",
       "    .dataframe thead th {\n",
       "        text-align: right;\n",
       "    }\n",
       "</style>\n",
       "<table border=\"1\" class=\"dataframe\">\n",
       "  <thead>\n",
       "    <tr style=\"text-align: right;\">\n",
       "      <th></th>\n",
       "      <th>race</th>\n",
       "      <th>gender</th>\n",
       "      <th>age</th>\n",
       "      <th>admission_type_id</th>\n",
       "      <th>discharge_disposition_id</th>\n",
       "      <th>admission_source_id</th>\n",
       "      <th>time_in_hospital</th>\n",
       "      <th>num_lab_procedures</th>\n",
       "      <th>num_procedures</th>\n",
       "      <th>num_medications</th>\n",
       "      <th>number_outpatient</th>\n",
       "      <th>number_emergency</th>\n",
       "      <th>number_inpatient</th>\n",
       "      <th>number_diagnoses</th>\n",
       "      <th>max_glu_serum</th>\n",
       "      <th>A1Cresult</th>\n",
       "      <th>metformin</th>\n",
       "      <th>repaglinide</th>\n",
       "      <th>nateglinide</th>\n",
       "      <th>chlorpropamide</th>\n",
       "      <th>glimepiride</th>\n",
       "      <th>acetohexamide</th>\n",
       "      <th>glipizide</th>\n",
       "      <th>glyburide</th>\n",
       "      <th>tolbutamide</th>\n",
       "      <th>pioglitazone</th>\n",
       "      <th>rosiglitazone</th>\n",
       "      <th>acarbose</th>\n",
       "      <th>miglitol</th>\n",
       "      <th>troglitazone</th>\n",
       "      <th>tolazamide</th>\n",
       "      <th>insulin</th>\n",
       "      <th>glyburide-metformin</th>\n",
       "      <th>glipizide-metformin</th>\n",
       "      <th>glimepiride-pioglitazone</th>\n",
       "      <th>metformin-rosiglitazone</th>\n",
       "      <th>metformin-pioglitazone</th>\n",
       "      <th>change</th>\n",
       "      <th>diabetesMed</th>\n",
       "      <th>diag_1_group</th>\n",
       "      <th>diag_2_group</th>\n",
       "      <th>diag_3_group</th>\n",
       "      <th>readmitted</th>\n",
       "    </tr>\n",
       "  </thead>\n",
       "  <tbody>\n",
       "    <tr>\n",
       "      <th>0</th>\n",
       "      <td>Caucasian</td>\n",
       "      <td>Female</td>\n",
       "      <td>[50-60)</td>\n",
       "      <td>2</td>\n",
       "      <td>1</td>\n",
       "      <td>1</td>\n",
       "      <td>8</td>\n",
       "      <td>77</td>\n",
       "      <td>6</td>\n",
       "      <td>33</td>\n",
       "      <td>0</td>\n",
       "      <td>0</td>\n",
       "      <td>0</td>\n",
       "      <td>8</td>\n",
       "      <td>None</td>\n",
       "      <td>None</td>\n",
       "      <td>Steady</td>\n",
       "      <td>No</td>\n",
       "      <td>No</td>\n",
       "      <td>No</td>\n",
       "      <td>No</td>\n",
       "      <td>No</td>\n",
       "      <td>No</td>\n",
       "      <td>Down</td>\n",
       "      <td>No</td>\n",
       "      <td>No</td>\n",
       "      <td>No</td>\n",
       "      <td>No</td>\n",
       "      <td>No</td>\n",
       "      <td>No</td>\n",
       "      <td>No</td>\n",
       "      <td>Steady</td>\n",
       "      <td>No</td>\n",
       "      <td>No</td>\n",
       "      <td>No</td>\n",
       "      <td>No</td>\n",
       "      <td>No</td>\n",
       "      <td>Ch</td>\n",
       "      <td>Yes</td>\n",
       "      <td>Circulatory</td>\n",
       "      <td>Injury</td>\n",
       "      <td>Digestive</td>\n",
       "      <td>1</td>\n",
       "    </tr>\n",
       "    <tr>\n",
       "      <th>1</th>\n",
       "      <td>Caucasian</td>\n",
       "      <td>Female</td>\n",
       "      <td>[50-60)</td>\n",
       "      <td>3</td>\n",
       "      <td>1</td>\n",
       "      <td>1</td>\n",
       "      <td>2</td>\n",
       "      <td>49</td>\n",
       "      <td>1</td>\n",
       "      <td>11</td>\n",
       "      <td>0</td>\n",
       "      <td>0</td>\n",
       "      <td>0</td>\n",
       "      <td>3</td>\n",
       "      <td>None</td>\n",
       "      <td>None</td>\n",
       "      <td>No</td>\n",
       "      <td>No</td>\n",
       "      <td>No</td>\n",
       "      <td>No</td>\n",
       "      <td>No</td>\n",
       "      <td>No</td>\n",
       "      <td>No</td>\n",
       "      <td>No</td>\n",
       "      <td>No</td>\n",
       "      <td>No</td>\n",
       "      <td>No</td>\n",
       "      <td>No</td>\n",
       "      <td>No</td>\n",
       "      <td>No</td>\n",
       "      <td>No</td>\n",
       "      <td>No</td>\n",
       "      <td>No</td>\n",
       "      <td>No</td>\n",
       "      <td>No</td>\n",
       "      <td>No</td>\n",
       "      <td>No</td>\n",
       "      <td>No</td>\n",
       "      <td>No</td>\n",
       "      <td>Musculoskeletal</td>\n",
       "      <td>Other</td>\n",
       "      <td>Digestive</td>\n",
       "      <td>0</td>\n",
       "    </tr>\n",
       "    <tr>\n",
       "      <th>2</th>\n",
       "      <td>Caucasian</td>\n",
       "      <td>Female</td>\n",
       "      <td>[80-90)</td>\n",
       "      <td>1</td>\n",
       "      <td>3</td>\n",
       "      <td>7</td>\n",
       "      <td>4</td>\n",
       "      <td>68</td>\n",
       "      <td>2</td>\n",
       "      <td>23</td>\n",
       "      <td>0</td>\n",
       "      <td>0</td>\n",
       "      <td>0</td>\n",
       "      <td>9</td>\n",
       "      <td>None</td>\n",
       "      <td>&gt;7</td>\n",
       "      <td>Steady</td>\n",
       "      <td>No</td>\n",
       "      <td>No</td>\n",
       "      <td>No</td>\n",
       "      <td>No</td>\n",
       "      <td>No</td>\n",
       "      <td>No</td>\n",
       "      <td>No</td>\n",
       "      <td>No</td>\n",
       "      <td>No</td>\n",
       "      <td>No</td>\n",
       "      <td>No</td>\n",
       "      <td>No</td>\n",
       "      <td>No</td>\n",
       "      <td>No</td>\n",
       "      <td>No</td>\n",
       "      <td>No</td>\n",
       "      <td>No</td>\n",
       "      <td>No</td>\n",
       "      <td>No</td>\n",
       "      <td>No</td>\n",
       "      <td>No</td>\n",
       "      <td>Yes</td>\n",
       "      <td>Injury</td>\n",
       "      <td>Respiratory</td>\n",
       "      <td>Other</td>\n",
       "      <td>0</td>\n",
       "    </tr>\n",
       "    <tr>\n",
       "      <th>3</th>\n",
       "      <td>Caucasian</td>\n",
       "      <td>Female</td>\n",
       "      <td>[80-90)</td>\n",
       "      <td>1</td>\n",
       "      <td>1</td>\n",
       "      <td>7</td>\n",
       "      <td>3</td>\n",
       "      <td>46</td>\n",
       "      <td>0</td>\n",
       "      <td>20</td>\n",
       "      <td>0</td>\n",
       "      <td>0</td>\n",
       "      <td>0</td>\n",
       "      <td>9</td>\n",
       "      <td>None</td>\n",
       "      <td>&gt;8</td>\n",
       "      <td>Steady</td>\n",
       "      <td>No</td>\n",
       "      <td>No</td>\n",
       "      <td>No</td>\n",
       "      <td>No</td>\n",
       "      <td>No</td>\n",
       "      <td>No</td>\n",
       "      <td>Steady</td>\n",
       "      <td>No</td>\n",
       "      <td>No</td>\n",
       "      <td>No</td>\n",
       "      <td>No</td>\n",
       "      <td>No</td>\n",
       "      <td>No</td>\n",
       "      <td>No</td>\n",
       "      <td>No</td>\n",
       "      <td>No</td>\n",
       "      <td>No</td>\n",
       "      <td>No</td>\n",
       "      <td>No</td>\n",
       "      <td>No</td>\n",
       "      <td>Ch</td>\n",
       "      <td>Yes</td>\n",
       "      <td>Other</td>\n",
       "      <td>Circulatory</td>\n",
       "      <td>Circulatory</td>\n",
       "      <td>0</td>\n",
       "    </tr>\n",
       "    <tr>\n",
       "      <th>4</th>\n",
       "      <td>AfricanAmerican</td>\n",
       "      <td>Female</td>\n",
       "      <td>[30-40)</td>\n",
       "      <td>1</td>\n",
       "      <td>1</td>\n",
       "      <td>7</td>\n",
       "      <td>5</td>\n",
       "      <td>49</td>\n",
       "      <td>0</td>\n",
       "      <td>5</td>\n",
       "      <td>0</td>\n",
       "      <td>0</td>\n",
       "      <td>0</td>\n",
       "      <td>3</td>\n",
       "      <td>None</td>\n",
       "      <td>None</td>\n",
       "      <td>No</td>\n",
       "      <td>No</td>\n",
       "      <td>No</td>\n",
       "      <td>No</td>\n",
       "      <td>Steady</td>\n",
       "      <td>No</td>\n",
       "      <td>No</td>\n",
       "      <td>No</td>\n",
       "      <td>No</td>\n",
       "      <td>No</td>\n",
       "      <td>No</td>\n",
       "      <td>No</td>\n",
       "      <td>No</td>\n",
       "      <td>No</td>\n",
       "      <td>No</td>\n",
       "      <td>No</td>\n",
       "      <td>No</td>\n",
       "      <td>No</td>\n",
       "      <td>No</td>\n",
       "      <td>No</td>\n",
       "      <td>No</td>\n",
       "      <td>No</td>\n",
       "      <td>Yes</td>\n",
       "      <td>Genitourinary</td>\n",
       "      <td>Neoplasms</td>\n",
       "      <td>Digestive</td>\n",
       "      <td>0</td>\n",
       "    </tr>\n",
       "  </tbody>\n",
       "</table>\n",
       "</div>"
      ],
      "text/plain": [
       "              race  gender      age admission_type_id  \\\n",
       "0        Caucasian  Female  [50-60)                 2   \n",
       "1        Caucasian  Female  [50-60)                 3   \n",
       "2        Caucasian  Female  [80-90)                 1   \n",
       "3        Caucasian  Female  [80-90)                 1   \n",
       "4  AfricanAmerican  Female  [30-40)                 1   \n",
       "\n",
       "  discharge_disposition_id admission_source_id  time_in_hospital  \\\n",
       "0                        1                   1                 8   \n",
       "1                        1                   1                 2   \n",
       "2                        3                   7                 4   \n",
       "3                        1                   7                 3   \n",
       "4                        1                   7                 5   \n",
       "\n",
       "   num_lab_procedures  num_procedures  num_medications  number_outpatient  \\\n",
       "0                  77               6               33                  0   \n",
       "1                  49               1               11                  0   \n",
       "2                  68               2               23                  0   \n",
       "3                  46               0               20                  0   \n",
       "4                  49               0                5                  0   \n",
       "\n",
       "   number_emergency  number_inpatient  number_diagnoses max_glu_serum  \\\n",
       "0                 0                 0                 8          None   \n",
       "1                 0                 0                 3          None   \n",
       "2                 0                 0                 9          None   \n",
       "3                 0                 0                 9          None   \n",
       "4                 0                 0                 3          None   \n",
       "\n",
       "  A1Cresult metformin repaglinide nateglinide chlorpropamide glimepiride  \\\n",
       "0      None    Steady          No          No             No          No   \n",
       "1      None        No          No          No             No          No   \n",
       "2        >7    Steady          No          No             No          No   \n",
       "3        >8    Steady          No          No             No          No   \n",
       "4      None        No          No          No             No      Steady   \n",
       "\n",
       "  acetohexamide glipizide glyburide tolbutamide pioglitazone rosiglitazone  \\\n",
       "0            No        No      Down          No           No            No   \n",
       "1            No        No        No          No           No            No   \n",
       "2            No        No        No          No           No            No   \n",
       "3            No        No    Steady          No           No            No   \n",
       "4            No        No        No          No           No            No   \n",
       "\n",
       "  acarbose miglitol troglitazone tolazamide insulin glyburide-metformin  \\\n",
       "0       No       No           No         No  Steady                  No   \n",
       "1       No       No           No         No      No                  No   \n",
       "2       No       No           No         No      No                  No   \n",
       "3       No       No           No         No      No                  No   \n",
       "4       No       No           No         No      No                  No   \n",
       "\n",
       "  glipizide-metformin glimepiride-pioglitazone metformin-rosiglitazone  \\\n",
       "0                  No                       No                      No   \n",
       "1                  No                       No                      No   \n",
       "2                  No                       No                      No   \n",
       "3                  No                       No                      No   \n",
       "4                  No                       No                      No   \n",
       "\n",
       "  metformin-pioglitazone change diabetesMed     diag_1_group diag_2_group  \\\n",
       "0                     No     Ch         Yes      Circulatory       Injury   \n",
       "1                     No     No          No  Musculoskeletal        Other   \n",
       "2                     No     No         Yes           Injury  Respiratory   \n",
       "3                     No     Ch         Yes            Other  Circulatory   \n",
       "4                     No     No         Yes    Genitourinary    Neoplasms   \n",
       "\n",
       "  diag_3_group  readmitted  \n",
       "0    Digestive           1  \n",
       "1    Digestive           0  \n",
       "2        Other           0  \n",
       "3  Circulatory           0  \n",
       "4    Digestive           0  "
      ]
     },
     "execution_count": 3,
     "metadata": {},
     "output_type": "execute_result"
    }
   ],
   "source": [
    "pd.set_option('display.max_columns', 50)\n",
    "df.head()"
   ]
  },
  {
   "cell_type": "code",
   "execution_count": 4,
   "metadata": {},
   "outputs": [
    {
     "data": {
      "text/plain": [
       "Text(0.5, 1.0, 'Race')"
      ]
     },
     "execution_count": 4,
     "metadata": {},
     "output_type": "execute_result"
    },
    {
     "data": {
      "image/png": "[encoded data removed]",
      "text/plain": [
       "<Figure size 288x216 with 1 Axes>"
      ]
     },
     "metadata": {
      "needs_background": "light"
     },
     "output_type": "display_data"
    }
   ],
   "source": [
    "plt.rcParams['figure.figsize']= [4.0, 3.0]\n",
    "df.loc[df['readmitted'].isin(['1','Yes',1]),'race'].value_counts().plot(kind='bar')\n",
    "\n",
    "\n",
    "plt.title('Race')"
   ]
  },
  {
   "cell_type": "code",
   "execution_count": 5,
   "metadata": {},
   "outputs": [
    {
     "data": {
      "text/plain": [
       "Text(0.5, 1.0, 'gender')"
      ]
     },
     "execution_count": 5,
     "metadata": {},
     "output_type": "execute_result"
    },
    {
     "data": {
      "image/png": "[encoded data removed]",
      "text/plain": [
       "<Figure size 288x216 with 1 Axes>"
      ]
     },
     "metadata": {
      "needs_background": "light"
     },
     "output_type": "display_data"
    }
   ],
   "source": [
    "plt.rcParams['figure.figsize']= [4.0, 3.0]\n",
    "df.loc[df['readmitted'].isin(['1','Yes',1]),'gender'].value_counts().plot(kind='bar')\n",
    "plt.title('gender')"
   ]
  },
  {
   "cell_type": "code",
   "execution_count": 6,
   "metadata": {},
   "outputs": [
    {
     "data": {
      "text/plain": [
       "Text(0.5, 1.0, 'Age')"
      ]
     },
     "execution_count": 6,
     "metadata": {},
     "output_type": "execute_result"
    },
    {
     "data": {
      "image/png": "[encoded data removed]",
      "text/plain": [
       "<Figure size 288x216 with 1 Axes>"
      ]
     },
     "metadata": {
      "needs_background": "light"
     },
     "output_type": "display_data"
    }
   ],
   "source": [
    "df.loc[df['readmitted'].isin(['1','Yes',1]),'age'].value_counts().plot(kind='bar')\n",
    "plt.title(\"Age\")"
   ]
  },
  {
   "cell_type": "code",
   "execution_count": 8,
   "metadata": {},
   "outputs": [
    {
     "data": {
      "text/plain": [
       "Text(0.5, 1.0, 'discharge_disposition_id')"
      ]
     },
     "execution_count": 8,
     "metadata": {},
     "output_type": "execute_result"
    },
    {
     "data": {
      "image/png": "[encoded data removed]",
      "text/plain": [
       "<Figure size 504x216 with 1 Axes>"
      ]
     },
     "metadata": {
      "needs_background": "light"
     },
     "output_type": "display_data"
    }
   ],
   "source": [
    "plt.rcParams['figure.figsize']= [7.0, 3.0]\n",
    "df.loc[df['readmitted'].isin(['1','Yes',1]),'discharge_disposition_id'].value_counts().plot(kind='bar')\n",
    "plt.title(\"discharge_disposition_id\")"
   ]
  },
  {
   "cell_type": "code",
   "execution_count": 9,
   "metadata": {},
   "outputs": [
    {
     "data": {
      "text/plain": [
       "Text(0.5, 1.0, 'admission_source_id')"
      ]
     },
     "execution_count": 9,
     "metadata": {},
     "output_type": "execute_result"
    },
    {
     "data": {
      "image/png": "[encoded data removed]",
      "text/plain": [
       "<Figure size 432x216 with 1 Axes>"
      ]
     },
     "metadata": {
      "needs_background": "light"
     },
     "output_type": "display_data"
    }
   ],
   "source": [
    "plt.rcParams['figure.figsize']= [6.0, 3.0]\n",
    "df.loc[df['readmitted'].isin(['1','Yes',1]),'admission_source_id'].value_counts()[:25].plot(kind='bar')\n",
    "plt.title(\"admission_source_id\")"
   ]
  },
  {
   "cell_type": "code",
   "execution_count": 10,
   "metadata": {},
   "outputs": [
    {
     "data": {
      "text/plain": [
       "Text(0.5, 1.0, 'time_in_hospital')"
      ]
     },
     "execution_count": 10,
     "metadata": {},
     "output_type": "execute_result"
    },
    {
     "data": {
      "image/png": "[encoded data removed]",
      "text/plain": [
       "<Figure size 720x216 with 1 Axes>"
      ]
     },
     "metadata": {
      "needs_background": "light"
     },
     "output_type": "display_data"
    }
   ],
   "source": [
    "plt.rcParams['figure.figsize']= [10.0, 3.0]\n",
    "df.loc[df['readmitted'].isin(['1','Yes',1]),'time_in_hospital'].value_counts()[:25].plot(kind='bar')\n",
    "plt.title(\"time_in_hospital\")"
   ]
  },
  {
   "cell_type": "code",
   "execution_count": 11,
   "metadata": {},
   "outputs": [
    {
     "data": {
      "text/plain": [
       "Text(0.5, 1.0, 'num_lab_procedures')"
      ]
     },
     "execution_count": 11,
     "metadata": {},
     "output_type": "execute_result"
    },
    {
     "data": {
      "image/png": "[encoded data removed]",
      "text/plain": [
       "<Figure size 720x216 with 1 Axes>"
      ]
     },
     "metadata": {
      "needs_background": "light"
     },
     "output_type": "display_data"
    }
   ],
   "source": [
    "#plt.rcParams['figure.figsize']= [10.0, 3.0]\n",
    "df.loc[df['readmitted'].isin(['1','Yes',1]),'num_lab_procedures'].value_counts()[:50].plot(kind='bar')\n",
    "plt.title(\"num_lab_procedures\")"
   ]
  },
  {
   "cell_type": "code",
   "execution_count": 12,
   "metadata": {
    "scrolled": false
   },
   "outputs": [
    {
     "data": {
      "text/plain": [
       "Text(0.5, 1.0, 'num_procedures')"
      ]
     },
     "execution_count": 12,
     "metadata": {},
     "output_type": "execute_result"
    },
    {
     "data": {
      "image/png": "[encoded data removed]",
      "text/plain": [
       "<Figure size 720x216 with 1 Axes>"
      ]
     },
     "metadata": {
      "needs_background": "light"
     },
     "output_type": "display_data"
    }
   ],
   "source": [
    "#plt.rcParams['figure.figsize']= [6.0, 3.0]\n",
    "df.loc[df['readmitted'].isin(['1','Yes',1]),'num_procedures'].value_counts().plot(kind='bar')\n",
    "plt.title(\"num_procedures\")"
   ]
  },
  {
   "cell_type": "code",
   "execution_count": 13,
   "metadata": {
    "scrolled": false
   },
   "outputs": [
    {
     "data": {
      "text/plain": [
       "Text(0.5, 1.0, 'num_medications')"
      ]
     },
     "execution_count": 13,
     "metadata": {},
     "output_type": "execute_result"
    },
    {
     "data": {
      "image/png": "[encoded data removed]",
      "text/plain": [
       "<Figure size 720x216 with 1 Axes>"
      ]
     },
     "metadata": {
      "needs_background": "light"
     },
     "output_type": "display_data"
    }
   ],
   "source": [
    "plt.rcParams['figure.figsize']= [10.0, 3.0]\n",
    "df.loc[df['readmitted'].isin(['1','Yes',1]),'num_medications'].value_counts()[:40].plot(kind='bar')\n",
    "plt.title(\"num_medications\")"
   ]
  },
  {
   "cell_type": "code",
   "execution_count": 14,
   "metadata": {},
   "outputs": [
    {
     "data": {
      "text/plain": [
       "Text(0.5, 1.0, 'number_emergency')"
      ]
     },
     "execution_count": 14,
     "metadata": {},
     "output_type": "execute_result"
    },
    {
     "data": {
      "image/png": "[encoded data removed]",
      "text/plain": [
       "<Figure size 720x216 with 1 Axes>"
      ]
     },
     "metadata": {
      "needs_background": "light"
     },
     "output_type": "display_data"
    }
   ],
   "source": [
    "#plt.rcParams['figure.figsize']= [6.0, 4.0]\n",
    "df.loc[df['readmitted'].isin(['1','Yes',1]),'number_emergency'].value_counts().plot(kind='bar')\n",
    "plt.title(\"number_emergency\")"
   ]
  },
  {
   "cell_type": "code",
   "execution_count": 15,
   "metadata": {
    "scrolled": false
   },
   "outputs": [
    {
     "data": {
      "text/plain": [
       "Text(0.5, 1.0, 'number_inpatient')"
      ]
     },
     "execution_count": 15,
     "metadata": {},
     "output_type": "execute_result"
    },
    {
     "data": {
      "image/png": "[encoded data removed]",
      "text/plain": [
       "<Figure size 720x216 with 1 Axes>"
      ]
     },
     "metadata": {
      "needs_background": "light"
     },
     "output_type": "display_data"
    }
   ],
   "source": [
    "#plt.rcParams['figure.figsize']= [6.0, 4.0]\n",
    "df.loc[df['readmitted'].isin(['1','Yes',1]),'number_inpatient'].value_counts().plot(kind='bar')\n",
    "plt.title(\"number_inpatient\")"
   ]
  },
  {
   "cell_type": "code",
   "execution_count": 16,
   "metadata": {
    "scrolled": true
   },
   "outputs": [
    {
     "data": {
      "text/plain": [
       "Text(0.5, 1.0, 'number_outpatient')"
      ]
     },
     "execution_count": 16,
     "metadata": {},
     "output_type": "execute_result"
    },
    {
     "data": {
      "image/png": "[encoded data removed]",
      "text/plain": [
       "<Figure size 432x216 with 1 Axes>"
      ]
     },
     "metadata": {
      "needs_background": "light"
     },
     "output_type": "display_data"
    }
   ],
   "source": [
    "plt.rcParams['figure.figsize']= [6.0, 3.0]\n",
    "df.loc[df['readmitted'].isin(['1','Yes',1]),'number_outpatient'].value_counts().plot(kind='bar')\n",
    "plt.title(\"number_outpatient\")"
   ]
  },
  {
   "cell_type": "code",
   "execution_count": 17,
   "metadata": {
    "scrolled": false
   },
   "outputs": [
    {
     "data": {
      "text/plain": [
       "Text(0.5, 1.0, 'number_diagnoses')"
      ]
     },
     "execution_count": 17,
     "metadata": {},
     "output_type": "execute_result"
    },
    {
     "data": {
      "image/png": "[encoded data removed]",
      "text/plain": [
       "<Figure size 432x216 with 1 Axes>"
      ]
     },
     "metadata": {
      "needs_background": "light"
     },
     "output_type": "display_data"
    }
   ],
   "source": [
    "plt.rcParams['figure.figsize']= [6.0, 3.0]\n",
    "df.loc[df['readmitted'].isin(['1','Yes',1]),'number_diagnoses'].value_counts().plot(kind='bar')\n",
    "plt.title(\"number_diagnoses\")"
   ]
  },
  {
   "cell_type": "code",
   "execution_count": 18,
   "metadata": {
    "scrolled": false
   },
   "outputs": [
    {
     "data": {
      "text/plain": [
       "Text(0.5, 1.0, 'number_outpatient')"
      ]
     },
     "execution_count": 18,
     "metadata": {},
     "output_type": "execute_result"
    },
    {
     "data": {
      "image/png": "[encoded data removed]",
      "text/plain": [
       "<Figure size 432x216 with 1 Axes>"
      ]
     },
     "metadata": {
      "needs_background": "light"
     },
     "output_type": "display_data"
    }
   ],
   "source": [
    "plt.rcParams['figure.figsize']= [6.0, 3.0]\n",
    "df.loc[df['readmitted'].isin(['1','Yes',1]),'number_outpatient'].value_counts()[:10].plot(kind='bar')\n",
    "plt.title(\"number_outpatient\")"
   ]
  },
  {
   "cell_type": "markdown",
   "metadata": {
    "scrolled": false
   },
   "source": [
    "## Modeling"
   ]
  },
  {
   "cell_type": "code",
   "execution_count": 8,
   "metadata": {},
   "outputs": [
    {
     "name": "stdout",
     "output_type": "stream",
     "text": [
      "Original data shape (101766, 50)\n",
      "Process Missing data\n",
      "Delete multipule encounters\n",
      "Transform features\n",
      "Reduce skewness\n",
      "Conduce label encoding\n",
      "Data shape after preprocessing: (69973, 42)\n"
     ]
    }
   ],
   "source": [
    "X,Y= get_data('diabetic_data.csv',labelEncode=True, skewness=True)"
   ]
  },
  {
   "cell_type": "code",
   "execution_count": 5,
   "metadata": {
    "scrolled": false
   },
   "outputs": [
    {
     "data": {
      "image/png": "[encoded data removed]",
      "text/plain": [
       "<Figure size 432x216 with 1 Axes>"
      ]
     },
     "metadata": {
      "needs_background": "light"
     },
     "output_type": "display_data"
    }
   ],
   "source": [
    "plt.rcParams['figure.figsize']= [6.0, 3.0]\n",
    "Y.value_counts()[:10].plot(kind='bar')\n",
    "plt.title(\"Orginal Readmission Distribution\")\n",
    "plt.xticks([0,1], ['No', 'Yes'])\n",
    "plt.ylabel('Total Number')\n",
    "#plt.xlabel('Readmission')\n",
    "plt.savefig('readmission_dist.png')"
   ]
  },
  {
   "cell_type": "code",
   "execution_count": 9,
   "metadata": {},
   "outputs": [
    {
     "name": "stdout",
     "output_type": "stream",
     "text": [
      "(55978, 42) (13995, 42)\n"
     ]
    }
   ],
   "source": [
    "if Y.dtype=='object':\n",
    "    Y = Y.apply(lambda x: int(x=='Yes'))\n",
    "X_train, X_test, y_train, y_test = ms.train_test_split(X, Y,  test_size=0.2, random_state=0)\n",
    "print(X_train.shape, X_test.shape)"
   ]
  },
  {
   "cell_type": "code",
   "execution_count": 10,
   "metadata": {},
   "outputs": [
    {
     "name": "stdout",
     "output_type": "stream",
     "text": [
      "(10036, 42)\n"
     ]
    }
   ],
   "source": [
    "X_train, y_train = down_sampling(X_train, y_train, sampling_ratio = 1)\n",
    "print(X_train.shape)"
   ]
  },
  {
   "cell_type": "code",
   "execution_count": 34,
   "metadata": {
    "scrolled": false
   },
   "outputs": [
    {
     "data": {
      "image/png": "[encoded data removed]",
      "text/plain": [
       "<Figure size 432x216 with 1 Axes>"
      ]
     },
     "metadata": {
      "needs_background": "light"
     },
     "output_type": "display_data"
    }
   ],
   "source": [
    "plt.rcParams['figure.figsize']= [6.0, 3.0]\n",
    "y_train.value_counts()[:10].plot(kind='bar')\n",
    "plt.title(\"Under Sampling on Training Set\")\n",
    "plt.xticks([0,1], ['No', 'Yes'])\n",
    "\n",
    "#plt.xlabel('Readmission')\n",
    "plt.ylabel('Total Number')\n",
    "plt.savefig('readmission_down.png')\n"
   ]
  },
  {
   "cell_type": "code",
   "execution_count": 11,
   "metadata": {},
   "outputs": [
    {
     "name": "stdout",
     "output_type": "stream",
     "text": [
      "(5018, 42) (5018, 42) (13995, 42)\n"
     ]
    }
   ],
   "source": [
    "X_train, X_train_lr, y_train, y_train_lr = ms.train_test_split(\n",
    "    X_train, y_train, test_size=0.5)\n",
    "\n",
    "print(X_train.shape, X_train_lr.shape, X_test.shape)"
   ]
  },
  {
   "cell_type": "code",
   "execution_count": 36,
   "metadata": {},
   "outputs": [
    {
     "data": {
      "text/plain": [
       "0    0.502391\n",
       "1    0.497609\n",
       "Name: readmitted, dtype: float64"
      ]
     },
     "execution_count": 36,
     "metadata": {},
     "output_type": "execute_result"
    }
   ],
   "source": [
    "y_train.value_counts()/y_train.shape[0]"
   ]
  },
  {
   "cell_type": "code",
   "execution_count": 37,
   "metadata": {},
   "outputs": [
    {
     "data": {
      "text/plain": [
       "1    0.502391\n",
       "0    0.497609\n",
       "Name: readmitted, dtype: float64"
      ]
     },
     "execution_count": 37,
     "metadata": {},
     "output_type": "execute_result"
    }
   ],
   "source": [
    "y_train_lr.value_counts()/y_train_lr.shape[0]"
   ]
  },
  {
   "cell_type": "code",
   "execution_count": 38,
   "metadata": {},
   "outputs": [
    {
     "data": {
      "text/plain": [
       "0    0.910039\n",
       "1    0.089961\n",
       "Name: readmitted, dtype: float64"
      ]
     },
     "execution_count": 38,
     "metadata": {},
     "output_type": "execute_result"
    }
   ],
   "source": [
    "y_test.value_counts()/y_test.shape[0]"
   ]
  },
  {
   "cell_type": "code",
   "execution_count": 39,
   "metadata": {},
   "outputs": [],
   "source": [
    "plt.rcParams['figure.figsize']= [6.0, 4.0]"
   ]
  },
  {
   "cell_type": "markdown",
   "metadata": {},
   "source": [
    "## Random Forest + Logistic Regression"
   ]
  },
  {
   "cell_type": "code",
   "execution_count": 18,
   "metadata": {},
   "outputs": [
    {
     "data": {
      "text/plain": [
       "LogisticRegression(C=0.00397, class_weight=None, dual=False, fit_intercept=True,\n",
       "                   intercept_scaling=1, l1_ratio=None, max_iter=1000,\n",
       "                   multi_class='warn', n_jobs=None, penalty='l2',\n",
       "                   random_state=42, solver='saga', tol=0.0001, verbose=0,\n",
       "                   warm_start=False)"
      ]
     },
     "execution_count": 18,
     "metadata": {},
     "output_type": "execute_result"
    }
   ],
   "source": [
    "# Random Forest + Logistic Regression\n",
    "\n",
    "n_estimator = 28\n",
    "rf = RandomForestClassifier(max_depth=7, max_features=5, n_estimators=n_estimator,n_jobs=-1, random_state=42)\n",
    "rf_enc = OneHotEncoder(categories='auto',sparse=False, handle_unknown='ignore')\n",
    "rf_lm = LogisticRegression(solver='saga', max_iter=1000, C=0.00397, random_state=42)\n",
    "rf.fit(X_train, y_train)\n",
    "rf_enc.fit(rf.apply(X_train))\n",
    "rf_lm.fit(rf_enc.transform(rf.apply(X_train_lr)), y_train_lr)\n",
    "\n"
   ]
  },
  {
   "cell_type": "markdown",
   "metadata": {},
   "source": [
    "#### RF + LR Grid Search CV"
   ]
  },
  {
   "cell_type": "code",
   "execution_count": 43,
   "metadata": {},
   "outputs": [
    {
     "name": "stdout",
     "output_type": "stream",
     "text": [
      "RandomForestClassifier(bootstrap=True, class_weight=None, criterion='gini',\n",
      "                       max_depth=7, max_features=5, max_leaf_nodes=None,\n",
      "                       min_impurity_decrease=0.0, min_impurity_split=None,\n",
      "                       min_samples_leaf=1, min_samples_split=2,\n",
      "                       min_weight_fraction_leaf=0.0, n_estimators=28, n_jobs=-1,\n",
      "                       oob_score=False, random_state=42, verbose=0,\n",
      "                       warm_start=False)\n",
      "LogisticRegression(C=0.003970000000000001, class_weight=None, dual=False,\n",
      "                   fit_intercept=True, intercept_scaling=1, l1_ratio=None,\n",
      "                   max_iter=1000, multi_class='warn', n_jobs=None, penalty='l2',\n",
      "                   random_state=42, solver='saga', tol=0.0001, verbose=0,\n",
      "                   warm_start=False)\n"
     ]
    }
   ],
   "source": [
    "grid_param = {'n_estimators':range(20,44,2), 'max_depth':range(4,8), \\\n",
    "                                  'max_features':range(4,8)}\n",
    "rf_grid_cv = ms.GridSearchCV(rf,  grid_param,cv=5, n_jobs= -1, scoring='roc_auc',return_train_score=True)\n",
    "rf_grid_cv.fit(X_train, y_train)\n",
    "rf = rf_grid_cv.best_estimator_\n",
    "print(rf)\n",
    "\n",
    "rf_enc.fit(rf.apply(X_train))\n",
    "grid_param = {'C':np.linspace(0.1,0.001, 101)}\n",
    "rf_lm_grid_cv = ms.GridSearchCV(rf_lm, grid_param, n_jobs= -1, scoring='roc_auc', cv=5,return_train_score=True)\n",
    "rf_lm_grid_cv.fit(rf_enc.transform(rf.apply(X_train_lr)), y_train_lr)\n",
    "rf_lm = rf_lm_grid_cv.best_estimator_\n",
    "print(rf_lm)"
   ]
  },
  {
   "cell_type": "code",
   "execution_count": 44,
   "metadata": {},
   "outputs": [
    {
     "name": "stdout",
     "output_type": "stream",
     "text": [
      "rf auc:  0.6234388782674293\n",
      "rf_lm auc:  0.633147057268072\n"
     ]
    },
    {
     "data": {
      "text/plain": [
       "<matplotlib.axes._subplots.AxesSubplot at 0xb59f290>"
      ]
     },
     "execution_count": 44,
     "metadata": {},
     "output_type": "execute_result"
    },
    {
     "data": {
      "image/png": "[encoded data removed]",
      "text/plain": [
       "<Figure size 432x288 with 1 Axes>"
      ]
     },
     "metadata": {
      "needs_background": "light"
     },
     "output_type": "display_data"
    }
   ],
   "source": [
    "y_pred_rf = rf.predict_proba(X_test)[:, 1]\n",
    "y_rf = rf.predict(X_test)\n",
    "fpr_rf, tpr_rf, _ = roc_curve(y_test, y_pred_rf)\n",
    "auc_rf = auc(fpr_rf, tpr_rf)\n",
    "print('rf auc: ', auc_rf)\n",
    "\n",
    "y_proba_rf_lm = rf_lm.predict_proba(rf_enc.transform(rf.apply(X_test)))[:, 1]\n",
    "y_rf_lm = rf_lm.predict(rf_enc.transform(rf.apply(X_test)))\n",
    "fpr_rf_lm, tpr_rf_lm, _ = roc_curve(y_test, y_proba_rf_lm)\n",
    "auc_rf_lm = auc(fpr_rf_lm, tpr_rf_lm)\n",
    "print('rf_lm auc: ', auc_rf_lm)\n",
    "\n",
    "pd.Series(rf.feature_importances_, index=X_train.columns).sort_values()[-8:].plot(kind='barh')\n"
   ]
  },
  {
   "cell_type": "code",
   "execution_count": 45,
   "metadata": {},
   "outputs": [
    {
     "name": "stdout",
     "output_type": "stream",
     "text": [
      "\n",
      "        Classification Report on All Quantile Groups        \n",
      "              precision    recall  f1-score   support\n",
      "\n",
      "           0       0.94      0.57      0.71     12736\n",
      "           1       0.13      0.63      0.21      1259\n",
      "\n",
      "    accuracy                           0.58     13995\n",
      "   macro avg       0.53      0.60      0.46     13995\n",
      "weighted avg       0.87      0.58      0.67     13995\n",
      "\n"
     ]
    },
    {
     "data": {
      "text/plain": [
       "<Figure size 432x288 with 0 Axes>"
      ]
     },
     "metadata": {},
     "output_type": "display_data"
    }
   ],
   "source": [
    "\n",
    "plt.savefig('feature_rf.png',bbox_inches='tight')\n",
    "print('\\n{:^60}\\n{}'.format('Classification Report on All Quantile Groups', \\\n",
    "                              classification_report(y_test, y_rf_lm)))"
   ]
  },
  {
   "cell_type": "code",
   "execution_count": 46,
   "metadata": {},
   "outputs": [
    {
     "name": "stdout",
     "output_type": "stream",
     "text": [
      "\n",
      "                                Gain/Lift Chart                                 \n",
      "  quantile  amount  readmitted       min       max  pct_readmitted      lift\n",
      "0        1    1400          62  0.284831  0.368945        0.044286  0.492286\n",
      "1        2    1399          73  0.368945  0.400513        0.052180  0.580041\n",
      "2        3    1400          87  0.400523  0.425351        0.062143  0.690788\n",
      "3        4    1399          85  0.425358  0.452065        0.060758  0.675390\n",
      "4        5    1400          96  0.452092  0.482744        0.068571  0.762249\n",
      "5        6    1399         123  0.482754  0.514596        0.087920  0.977330\n",
      "6        7    1399         136  0.514607  0.546505        0.097212  1.080625\n",
      "7        8    1400         174  0.546513  0.573697        0.124286  1.381576\n",
      "8        9    1399         186  0.573699  0.604099        0.132952  1.477913\n",
      "9       10    1400         237  0.604174  0.715917        0.169286  1.881802\n"
     ]
    }
   ],
   "source": [
    "result = metrics_table(y_test, y_proba_rf_lm)\n",
    "print('{}\\n{:^80}\\n{}'.format('','Gain/Lift Chart',result))\n"
   ]
  },
  {
   "cell_type": "markdown",
   "metadata": {},
   "source": [
    "## Logistic Regression with Feature Transform From Gradient Boosting Model"
   ]
  },
  {
   "cell_type": "code",
   "execution_count": 6,
   "metadata": {},
   "outputs": [
    {
     "data": {
      "text/plain": [
       "LogisticRegression(C=0.00199, class_weight=None, dual=False, fit_intercept=True,\n",
       "                   intercept_scaling=1, l1_ratio=None, max_iter=1000,\n",
       "                   multi_class='warn', n_jobs=None, penalty='l2',\n",
       "                   random_state=42, solver='saga', tol=0.0001, verbose=0,\n",
       "                   warm_start=False)"
      ]
     },
     "execution_count": 6,
     "metadata": {},
     "output_type": "execute_result"
    }
   ],
   "source": [
    "n_estimator = 100\n",
    "grd = GradientBoostingClassifier(n_estimators=n_estimator,random_state=42, learning_rate=0.09)\n",
    "grd_enc = OneHotEncoder(categories='auto', sparse=False, handle_unknown='ignore')\n",
    "grd_lm = LogisticRegression(solver='saga', max_iter=1000, C=0.00199, random_state=42)\n",
    "grd.fit(X_train, y_train)\n",
    "grd_enc.fit(grd.apply(X_train)[:, :, 0])\n",
    "grd_lm.fit(grd_enc.transform(grd.apply(X_train_lr)[:, :, 0]), y_train_lr)"
   ]
  },
  {
   "cell_type": "markdown",
   "metadata": {},
   "source": [
    "#### GB + LR Grid Search CV"
   ]
  },
  {
   "cell_type": "code",
   "execution_count": 7,
   "metadata": {},
   "outputs": [],
   "source": [
    "grid_param = {'n_estimators':range(40,150,10), 'learning_rate':np.linspace(.05, .25, 21)}\n",
    "grid_grid_cv = ms.GridSearchCV(grd, grid_param, cv=5, n_jobs=-1, scoring='roc_auc')\n",
    "grid_grid_cv.fit(X_train, y_train)\n",
    "grd = grid_grid_cv.best_estimator_\n",
    "\n",
    "grd_enc.fit(grd.apply(X_train)[:, :, 0])\n",
    "grid_param = {'C':np.linspace(0.1,0.001, 101)}\n",
    "grd_lm_grid_cv = ms.GridSearchCV(grd_lm, grid_param, cv=5, n_jobs=-1, scoring='roc_auc')\n",
    "grd_lm_grid_cv.fit(grd_enc.transform(grd.apply(X_train_lr)[:, :, 0]), y_train_lr)\n",
    "grd_lm = grd_lm_grid_cv.best_estimator_"
   ]
  },
  {
   "cell_type": "markdown",
   "metadata": {},
   "source": [
    "#### GB +LR Best Model "
   ]
  },
  {
   "cell_type": "code",
   "execution_count": 10,
   "metadata": {
    "scrolled": false
   },
   "outputs": [
    {
     "name": "stdout",
     "output_type": "stream",
     "text": [
      "GB AUC:  0.6394902680599184\n",
      "GB + LR AUC:  0.648644957312376\n",
      "\n",
      "       Classification Report on the Whole Population        \n",
      "              precision    recall  f1-score   support\n",
      "\n",
      "           0       0.94      0.63      0.75     12736\n",
      "           1       0.13      0.58      0.22      1259\n",
      "\n",
      "    accuracy                           0.63     13995\n",
      "   macro avg       0.54      0.61      0.49     13995\n",
      "weighted avg       0.87      0.63      0.71     13995\n",
      "\n",
      "\n",
      "                                Gain/Lift Chart                                 \n",
      "  quantile  amount  readmitted       min       max  pct_readmitted      lift\n",
      "0        1    1401          57  0.298512  0.361645        0.040685  0.452262\n",
      "1        2    1398          73  0.361675  0.385588        0.052217  0.580455\n",
      "2        3    1400          75  0.385592  0.405330        0.053571  0.595506\n",
      "3        4    1399          90  0.405374  0.426666        0.064332  0.715118\n",
      "4        5    1400         101  0.426668  0.453703        0.072143  0.801948\n",
      "5        6    1399         117  0.453724  0.495533        0.083631  0.929654\n",
      "6        7    1399         122  0.495535  0.540003        0.087205  0.969383\n",
      "7        8    1400         151  0.540036  0.582880        0.107857  1.198953\n",
      "8        9    1399         187  0.582928  0.629204        0.133667  1.485857\n",
      "9       10    1400         286  0.629205  0.800352        0.204286  2.270864\n"
     ]
    },
    {
     "data": {
      "image/png": "[encoded data removed]",
      "text/plain": [
       "<Figure size 432x288 with 1 Axes>"
      ]
     },
     "metadata": {
      "needs_background": "light"
     },
     "output_type": "display_data"
    }
   ],
   "source": [
    "y_proba_grd = grd.predict_proba(X_test)[:, 1]\n",
    "fpr_grd, tpr_grd, _ = roc_curve(y_test, y_proba_grd)\n",
    "auc_grd = auc(fpr_grd, tpr_grd)\n",
    "y_pred_grd = grd.predict(X_test)\n",
    "\n",
    "y_proba_grd_lm = grd_lm.predict_proba(\n",
    "    grd_enc.transform(grd.apply(X_test)[:, :, 0]))[:, 1]\n",
    "fpr_grd_lm, tpr_grd_lm, _ = roc_curve(y_test, y_proba_grd_lm)\n",
    "auc_grd_lm = auc(fpr_grd_lm, tpr_grd_lm)\n",
    "y_grd_lm = grd_lm.predict(\n",
    "    grd_enc.transform(grd.apply(X_test)[:, :, 0]))\n",
    "\n",
    "print('GB AUC: ',auc_grd)\n",
    "print(\"GB + LR AUC: \", auc_grd_lm)\n",
    "pd.Series(grd.feature_importances_, index=X_train.columns).sort_values()[-8:].plot(kind='barh')\n",
    "\n",
    "plt.title('Feature Importance from Gradient Boosting Model')\n",
    "#plt.xlabel('Importance')\n",
    "#plt.ylabel('Features')\n",
    "plt.savefig('grd_features.png', bbox_inches='tight')\n",
    "\n",
    "print('\\n{:^60}\\n{}'.format('Classification Report on the Whole Population',\\\n",
    "                            classification_report(y_test, y_grd_lm)))\n",
    "\n",
    "result=metrics_table(y_test, y_proba_grd_lm)\n",
    "print('{}\\n{:^80}\\n{}'.format('','Gain/Lift Chart',result))\n",
    "#result.append(regroup_lift(result,5), ignore_index=True)"
   ]
  },
  {
   "cell_type": "code",
   "execution_count": 11,
   "metadata": {},
   "outputs": [
    {
     "data": {
      "text/html": [
       "<div>\n",
       "<style scoped>\n",
       "    .dataframe tbody tr th:only-of-type {\n",
       "        vertical-align: middle;\n",
       "    }\n",
       "\n",
       "    .dataframe tbody tr th {\n",
       "        vertical-align: top;\n",
       "    }\n",
       "\n",
       "    .dataframe thead th {\n",
       "        text-align: right;\n",
       "    }\n",
       "</style>\n",
       "<table border=\"1\" class=\"dataframe\">\n",
       "  <thead>\n",
       "    <tr style=\"text-align: right;\">\n",
       "      <th></th>\n",
       "      <th>quantile</th>\n",
       "      <th>amount</th>\n",
       "      <th>readmitted</th>\n",
       "      <th>min</th>\n",
       "      <th>max</th>\n",
       "      <th>pct_readmitted</th>\n",
       "      <th>lift</th>\n",
       "    </tr>\n",
       "  </thead>\n",
       "  <tbody>\n",
       "    <tr>\n",
       "      <th>9</th>\n",
       "      <td>10</td>\n",
       "      <td>1400</td>\n",
       "      <td>286</td>\n",
       "      <td>0.629205</td>\n",
       "      <td>0.800352</td>\n",
       "      <td>0.204286</td>\n",
       "      <td>2.270864</td>\n",
       "    </tr>\n",
       "    <tr>\n",
       "      <th>8</th>\n",
       "      <td>9</td>\n",
       "      <td>1399</td>\n",
       "      <td>187</td>\n",
       "      <td>0.582928</td>\n",
       "      <td>0.629204</td>\n",
       "      <td>0.133667</td>\n",
       "      <td>1.485857</td>\n",
       "    </tr>\n",
       "    <tr>\n",
       "      <th>7</th>\n",
       "      <td>8</td>\n",
       "      <td>1400</td>\n",
       "      <td>151</td>\n",
       "      <td>0.540036</td>\n",
       "      <td>0.582880</td>\n",
       "      <td>0.107857</td>\n",
       "      <td>1.198953</td>\n",
       "    </tr>\n",
       "    <tr>\n",
       "      <th>6</th>\n",
       "      <td>7</td>\n",
       "      <td>1399</td>\n",
       "      <td>122</td>\n",
       "      <td>0.495535</td>\n",
       "      <td>0.540003</td>\n",
       "      <td>0.087205</td>\n",
       "      <td>0.969383</td>\n",
       "    </tr>\n",
       "    <tr>\n",
       "      <th>5</th>\n",
       "      <td>6</td>\n",
       "      <td>1399</td>\n",
       "      <td>117</td>\n",
       "      <td>0.453724</td>\n",
       "      <td>0.495533</td>\n",
       "      <td>0.083631</td>\n",
       "      <td>0.929654</td>\n",
       "    </tr>\n",
       "    <tr>\n",
       "      <th>4</th>\n",
       "      <td>5</td>\n",
       "      <td>1400</td>\n",
       "      <td>101</td>\n",
       "      <td>0.426668</td>\n",
       "      <td>0.453703</td>\n",
       "      <td>0.072143</td>\n",
       "      <td>0.801948</td>\n",
       "    </tr>\n",
       "    <tr>\n",
       "      <th>3</th>\n",
       "      <td>4</td>\n",
       "      <td>1399</td>\n",
       "      <td>90</td>\n",
       "      <td>0.405374</td>\n",
       "      <td>0.426666</td>\n",
       "      <td>0.064332</td>\n",
       "      <td>0.715118</td>\n",
       "    </tr>\n",
       "    <tr>\n",
       "      <th>2</th>\n",
       "      <td>3</td>\n",
       "      <td>1400</td>\n",
       "      <td>75</td>\n",
       "      <td>0.385592</td>\n",
       "      <td>0.405330</td>\n",
       "      <td>0.053571</td>\n",
       "      <td>0.595506</td>\n",
       "    </tr>\n",
       "    <tr>\n",
       "      <th>1</th>\n",
       "      <td>2</td>\n",
       "      <td>1398</td>\n",
       "      <td>73</td>\n",
       "      <td>0.361675</td>\n",
       "      <td>0.385588</td>\n",
       "      <td>0.052217</td>\n",
       "      <td>0.580455</td>\n",
       "    </tr>\n",
       "    <tr>\n",
       "      <th>0</th>\n",
       "      <td>1</td>\n",
       "      <td>1401</td>\n",
       "      <td>57</td>\n",
       "      <td>0.298512</td>\n",
       "      <td>0.361645</td>\n",
       "      <td>0.040685</td>\n",
       "      <td>0.452262</td>\n",
       "    </tr>\n",
       "  </tbody>\n",
       "</table>\n",
       "</div>"
      ],
      "text/plain": [
       "  quantile  amount  readmitted       min       max  pct_readmitted      lift\n",
       "9       10    1400         286  0.629205  0.800352        0.204286  2.270864\n",
       "8        9    1399         187  0.582928  0.629204        0.133667  1.485857\n",
       "7        8    1400         151  0.540036  0.582880        0.107857  1.198953\n",
       "6        7    1399         122  0.495535  0.540003        0.087205  0.969383\n",
       "5        6    1399         117  0.453724  0.495533        0.083631  0.929654\n",
       "4        5    1400         101  0.426668  0.453703        0.072143  0.801948\n",
       "3        4    1399          90  0.405374  0.426666        0.064332  0.715118\n",
       "2        3    1400          75  0.385592  0.405330        0.053571  0.595506\n",
       "1        2    1398          73  0.361675  0.385588        0.052217  0.580455\n",
       "0        1    1401          57  0.298512  0.361645        0.040685  0.452262"
      ]
     },
     "execution_count": 11,
     "metadata": {},
     "output_type": "execute_result"
    }
   ],
   "source": [
    "result.sort_values(by='quantile',ascending=False)#.to_csv('grd_lr.csv')"
   ]
  },
  {
   "cell_type": "markdown",
   "metadata": {},
   "source": [
    "## Reduced Linear Model"
   ]
  },
  {
   "cell_type": "code",
   "execution_count": 16,
   "metadata": {},
   "outputs": [
    {
     "data": {
      "text/plain": [
       "(15054, 42)"
      ]
     },
     "execution_count": 16,
     "metadata": {},
     "output_type": "execute_result"
    }
   ],
   "source": [
    "# Linear model\n",
    "\n",
    "X_train = pd.concat([X_train,X_train_lr], axis=0)\n",
    "y_train = pd.concat([y_train, y_train_lr], axis =0)\n",
    "\n",
    "X_train.shape"
   ]
  },
  {
   "cell_type": "code",
   "execution_count": 25,
   "metadata": {},
   "outputs": [
    {
     "name": "stdout",
     "output_type": "stream",
     "text": [
      "(15054, 5) (13995, 5)\n"
     ]
    },
    {
     "data": {
      "text/plain": [
       "LogisticRegression(C=0.05743, class_weight='balanced', dual=False,\n",
       "                   fit_intercept=True, intercept_scaling=1, l1_ratio=None,\n",
       "                   max_iter=1000, multi_class='warn', n_jobs=-1, penalty='l2',\n",
       "                   random_state=42, solver='saga', tol=0.0001, verbose=0,\n",
       "                   warm_start=False)"
      ]
     },
     "execution_count": 25,
     "metadata": {},
     "output_type": "execute_result"
    }
   ],
   "source": [
    "# Reduced model\n",
    "\n",
    "X_train = X_train[['discharge_disposition_id','number_inpatient','age','num_medications','diag_1_group']]\n",
    "\n",
    "X_test = X_test[['discharge_disposition_id','number_inpatient','age','num_medications','diag_1_group']]\n",
    "print(X_train.shape, X_test.shape)\n",
    "\n",
    "enc1 = OneHotEncoder(categories='auto', sparse=True, handle_unknown='ignore')\n",
    "enc1.fit(X_train)\n",
    "\n",
    "lm = LogisticRegression(solver='saga', class_weight='balanced',max_iter=1000, C=0.05743, penalty='l2', n_jobs=-1, random_state=42)\n",
    "lm.fit(enc1.transform(X_train), y_train)"
   ]
  },
  {
   "cell_type": "code",
   "execution_count": 57,
   "metadata": {},
   "outputs": [
    {
     "name": "stdout",
     "output_type": "stream",
     "text": [
      "LogisticRegression(C=0.05743000000000001, class_weight='balanced', dual=False,\n",
      "                   fit_intercept=True, intercept_scaling=1, l1_ratio=None,\n",
      "                   max_iter=1000, multi_class='warn', n_jobs=-1, penalty='l2',\n",
      "                   random_state=42, solver='saga', tol=0.0001, verbose=0,\n",
      "                   warm_start=False)\n"
     ]
    }
   ],
   "source": [
    "grid_param = {'C':np.linspace(0.1,0.001, 101)}\n",
    "lm_grid_cv = ms.GridSearchCV(lm, grid_param, cv=5, n_jobs=-1, scoring='roc_auc')\n",
    "lm_grid_cv.fit(enc1.transform(X_train), y_train)\n",
    "lm = lm_grid_cv.best_estimator_\n",
    "print(lm)"
   ]
  },
  {
   "cell_type": "code",
   "execution_count": 14,
   "metadata": {},
   "outputs": [
    {
     "name": "stdout",
     "output_type": "stream",
     "text": [
      "0.646443346597962\n",
      "\n",
      "       Classification Report on the Whole Population        \n",
      "              precision    recall  f1-score   support\n",
      "\n",
      "           0       0.94      0.68      0.79     12736\n",
      "           1       0.14      0.54      0.23      1259\n",
      "\n",
      "    accuracy                           0.67     13995\n",
      "   macro avg       0.54      0.61      0.51     13995\n",
      "weighted avg       0.87      0.67      0.74     13995\n",
      "\n"
     ]
    }
   ],
   "source": [
    "y_proba_lm = lm.predict_proba(\n",
    "    enc1.transform(X_test))[:, 1]\n",
    "\n",
    "y_lm = lm.predict(enc1.transform(X_test))\n",
    "\n",
    "fpr_lm, tpr_lm, _ = roc_curve(y_test, y_proba_lm)\n",
    "auc_lm = auc(fpr_lm, tpr_lm)\n",
    "print(auc_lm)\n",
    "print('\\n{:^60}\\n{}'.format('Classification Report on the Whole Population',\\\n",
    "    classification_report(y_test, y_lm)))"
   ]
  },
  {
   "cell_type": "code",
   "execution_count": 16,
   "metadata": {},
   "outputs": [
    {
     "name": "stdout",
     "output_type": "stream",
     "text": [
      "\n",
      "                                Gain/Lift Chart                                 \n",
      "  quantile  amount  readmitted       min       max  pct_readmitted      lift\n",
      "0        1    1403          58  0.287285  0.370730        0.041340  0.459512\n",
      "1        2    1397          69  0.370766  0.390969        0.049392  0.549009\n",
      "2        3    1399          92  0.390998  0.410338        0.065761  0.730966\n",
      "3        4    1403          95  0.410415  0.428831        0.067712  0.752650\n",
      "4        5    1406          94  0.428848  0.449776        0.066856  0.743138\n",
      "5        6    1389          99  0.449839  0.477560        0.071274  0.792246\n",
      "6        7    1399         129  0.477585  0.518996        0.092209  1.024941\n",
      "7        8    1401         151  0.519050  0.568911        0.107780  1.198024\n",
      "8        9    1398         178  0.568995  0.619659        0.127325  1.415271\n",
      "9       10    1400         294  0.619706  0.904851        0.210000  2.334243\n"
     ]
    }
   ],
   "source": [
    "result=metrics_table(y_test, y_proba_lm)\n",
    "print('{}\\n{:^80}\\n{}'.format('','Gain/Lift Chart',result))"
   ]
  },
  {
   "cell_type": "code",
   "execution_count": 17,
   "metadata": {},
   "outputs": [
    {
     "data": {
      "text/html": [
       "<div>\n",
       "<style scoped>\n",
       "    .dataframe tbody tr th:only-of-type {\n",
       "        vertical-align: middle;\n",
       "    }\n",
       "\n",
       "    .dataframe tbody tr th {\n",
       "        vertical-align: top;\n",
       "    }\n",
       "\n",
       "    .dataframe thead th {\n",
       "        text-align: right;\n",
       "    }\n",
       "</style>\n",
       "<table border=\"1\" class=\"dataframe\">\n",
       "  <thead>\n",
       "    <tr style=\"text-align: right;\">\n",
       "      <th></th>\n",
       "      <th>quantile</th>\n",
       "      <th>amount</th>\n",
       "      <th>readmitted</th>\n",
       "      <th>min</th>\n",
       "      <th>max</th>\n",
       "      <th>pct_readmitted</th>\n",
       "      <th>lift</th>\n",
       "    </tr>\n",
       "  </thead>\n",
       "  <tbody>\n",
       "    <tr>\n",
       "      <th>9</th>\n",
       "      <td>10</td>\n",
       "      <td>1400</td>\n",
       "      <td>294</td>\n",
       "      <td>0.619706</td>\n",
       "      <td>0.904851</td>\n",
       "      <td>0.210000</td>\n",
       "      <td>2.334243</td>\n",
       "    </tr>\n",
       "    <tr>\n",
       "      <th>8</th>\n",
       "      <td>9</td>\n",
       "      <td>1398</td>\n",
       "      <td>178</td>\n",
       "      <td>0.568995</td>\n",
       "      <td>0.619659</td>\n",
       "      <td>0.127325</td>\n",
       "      <td>1.415271</td>\n",
       "    </tr>\n",
       "    <tr>\n",
       "      <th>7</th>\n",
       "      <td>8</td>\n",
       "      <td>1401</td>\n",
       "      <td>151</td>\n",
       "      <td>0.519050</td>\n",
       "      <td>0.568911</td>\n",
       "      <td>0.107780</td>\n",
       "      <td>1.198024</td>\n",
       "    </tr>\n",
       "    <tr>\n",
       "      <th>6</th>\n",
       "      <td>7</td>\n",
       "      <td>1399</td>\n",
       "      <td>129</td>\n",
       "      <td>0.477585</td>\n",
       "      <td>0.518996</td>\n",
       "      <td>0.092209</td>\n",
       "      <td>1.024941</td>\n",
       "    </tr>\n",
       "    <tr>\n",
       "      <th>5</th>\n",
       "      <td>6</td>\n",
       "      <td>1389</td>\n",
       "      <td>99</td>\n",
       "      <td>0.449839</td>\n",
       "      <td>0.477560</td>\n",
       "      <td>0.071274</td>\n",
       "      <td>0.792246</td>\n",
       "    </tr>\n",
       "    <tr>\n",
       "      <th>4</th>\n",
       "      <td>5</td>\n",
       "      <td>1406</td>\n",
       "      <td>94</td>\n",
       "      <td>0.428848</td>\n",
       "      <td>0.449776</td>\n",
       "      <td>0.066856</td>\n",
       "      <td>0.743138</td>\n",
       "    </tr>\n",
       "    <tr>\n",
       "      <th>3</th>\n",
       "      <td>4</td>\n",
       "      <td>1403</td>\n",
       "      <td>95</td>\n",
       "      <td>0.410415</td>\n",
       "      <td>0.428831</td>\n",
       "      <td>0.067712</td>\n",
       "      <td>0.752650</td>\n",
       "    </tr>\n",
       "    <tr>\n",
       "      <th>2</th>\n",
       "      <td>3</td>\n",
       "      <td>1399</td>\n",
       "      <td>92</td>\n",
       "      <td>0.390998</td>\n",
       "      <td>0.410338</td>\n",
       "      <td>0.065761</td>\n",
       "      <td>0.730966</td>\n",
       "    </tr>\n",
       "    <tr>\n",
       "      <th>1</th>\n",
       "      <td>2</td>\n",
       "      <td>1397</td>\n",
       "      <td>69</td>\n",
       "      <td>0.370766</td>\n",
       "      <td>0.390969</td>\n",
       "      <td>0.049392</td>\n",
       "      <td>0.549009</td>\n",
       "    </tr>\n",
       "    <tr>\n",
       "      <th>0</th>\n",
       "      <td>1</td>\n",
       "      <td>1403</td>\n",
       "      <td>58</td>\n",
       "      <td>0.287285</td>\n",
       "      <td>0.370730</td>\n",
       "      <td>0.041340</td>\n",
       "      <td>0.459512</td>\n",
       "    </tr>\n",
       "  </tbody>\n",
       "</table>\n",
       "</div>"
      ],
      "text/plain": [
       "  quantile  amount  readmitted       min       max  pct_readmitted      lift\n",
       "9       10    1400         294  0.619706  0.904851        0.210000  2.334243\n",
       "8        9    1398         178  0.568995  0.619659        0.127325  1.415271\n",
       "7        8    1401         151  0.519050  0.568911        0.107780  1.198024\n",
       "6        7    1399         129  0.477585  0.518996        0.092209  1.024941\n",
       "5        6    1389          99  0.449839  0.477560        0.071274  0.792246\n",
       "4        5    1406          94  0.428848  0.449776        0.066856  0.743138\n",
       "3        4    1403          95  0.410415  0.428831        0.067712  0.752650\n",
       "2        3    1399          92  0.390998  0.410338        0.065761  0.730966\n",
       "1        2    1397          69  0.370766  0.390969        0.049392  0.549009\n",
       "0        1    1403          58  0.287285  0.370730        0.041340  0.459512"
      ]
     },
     "execution_count": 17,
     "metadata": {},
     "output_type": "execute_result"
    }
   ],
   "source": [
    "result.sort_values(by='quantile', ascending=False)"
   ]
  },
  {
   "cell_type": "code",
   "execution_count": 14,
   "metadata": {},
   "outputs": [],
   "source": [
    "result.to_csv('lr.csv')"
   ]
  },
  {
   "cell_type": "code",
   "execution_count": 60,
   "metadata": {},
   "outputs": [
    {
     "data": {
      "image/png": "[encoded data removed]",
      "text/plain": [
       "<Figure size 432x288 with 1 Axes>"
      ]
     },
     "metadata": {
      "needs_background": "light"
     },
     "output_type": "display_data"
    }
   ],
   "source": [
    "\n",
    "plt.plot([0, 1], [0, 1], 'k--')\n",
    "plt.plot(fpr_rf, tpr_rf, label='RF AUC={:.3f}'.format(auc_rf))\n",
    "plt.plot(fpr_grd, tpr_grd, label='GBT  AUC={:.3f}'.format(auc_grd))\n",
    "plt.plot(fpr_lm, tpr_lm, label='LR Reduced AUC={:.3f}'.format(auc_lm))\n",
    "#plt.plot(fpr_full_lm, tpr_full_lm, label='LR Full AUC={:.3f}'.format(auc_lm))\n",
    "plt.xlabel('False positive rate')\n",
    "plt.ylabel('True positive rate')\n",
    "plt.title('ROC curve')\n",
    "plt.legend(loc='best')\n",
    "\n",
    "plt.savefig('roc.png',bbox_inches='tight')\n"
   ]
  }
 ],
 "metadata": {
  "kernelspec": {
   "display_name": "Python 3",
   "language": "python",
   "name": "python3"
  },
  "language_info": {
   "codemirror_mode": {
    "name": "ipython",
    "version": 3
   },
   "file_extension": ".py",
   "mimetype": "text/x-python",
   "name": "python",
   "nbconvert_exporter": "python",
   "pygments_lexer": "ipython3",
   "version": "3.7.3"
  }
 },
 "nbformat": 4,
 "nbformat_minor": 2
}
